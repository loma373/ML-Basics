{
 "cells": [
  {
   "cell_type": "code",
   "execution_count": 5,
   "metadata": {},
   "outputs": [
    {
     "name": "stdout",
     "output_type": "stream",
     "text": [
      "['Hi', 'there', 'class!']\n"
     ]
    }
   ],
   "source": [
    "s='Hi there class!'\n",
    "arr=s.split(sep=' ')\n",
    "print(arr)"
   ]
  },
  {
   "cell_type": "code",
   "execution_count": 3,
   "metadata": {},
   "outputs": [
    {
     "name": "stdout",
     "output_type": "stream",
     "text": [
      "The diameter of Earth is 12742 kilometers\n"
     ]
    }
   ],
   "source": [
    "planet='Earth'\n",
    "diameter=12742\n",
    "print('The diameter of {} is {} kilometers' .format(planet,diameter))"
   ]
  },
  {
   "cell_type": "code",
   "execution_count": 13,
   "metadata": {},
   "outputs": [
    {
     "name": "stdout",
     "output_type": "stream",
     "text": [
      "hello\n"
     ]
    }
   ],
   "source": [
    "lst=[1,2,[3,4],[5,[100,200,['hello']],23,11],17]\n",
    "print(lst[3][1][2][0])"
   ]
  },
  {
   "cell_type": "code",
   "execution_count": 15,
   "metadata": {},
   "outputs": [
    {
     "name": "stdout",
     "output_type": "stream",
     "text": [
      "hello\n"
     ]
    }
   ],
   "source": [
    "d={'k1':[1,2,3,{'tricky':['oh','man','inception',{'target':[1,2,3,'hello']}]}]}\n",
    "print(d['k1'][3]['tricky'][3]['target'][3])"
   ]
  },
  {
   "cell_type": "code",
   "execution_count": 8,
   "metadata": {},
   "outputs": [
    {
     "name": "stdout",
     "output_type": "stream",
     "text": [
      "domain\n"
     ]
    }
   ],
   "source": [
    "def grab(s):\n",
    "    ss=s.split('@')[-1]\n",
    "    sss=ss.split('.')[-2]\n",
    "    print(sss)\n",
    "s='user@domain.com'\n",
    "grab(s)\n",
    "            "
   ]
  },
  {
   "cell_type": "code",
   "execution_count": 4,
   "metadata": {},
   "outputs": [
    {
     "data": {
      "text/plain": [
       "True"
      ]
     },
     "execution_count": 4,
     "metadata": {},
     "output_type": "execute_result"
    }
   ],
   "source": [
    "#referred from gfg\n",
    "def dog(dogg):\n",
    "    if dogg.find('dog')==-1:\n",
    "        return False\n",
    "    else:\n",
    "        return True\n",
    "dog('hello mr dog how are you')\n",
    "    \n",
    "        \n",
    "    \n"
   ]
  },
  {
   "cell_type": "code",
   "execution_count": 9,
   "metadata": {},
   "outputs": [
    {
     "name": "stdout",
     "output_type": "stream",
     "text": [
      "2\n"
     ]
    }
   ],
   "source": [
    "def countdog(s):\n",
    "    arr=s.split()\n",
    "    n=0\n",
    "    for i in arr:\n",
    "        if i == 'dog':\n",
    "            n=n+1\n",
    "    print(n)\n",
    "countdog('hello dog hey dog youre a good boi')\n"
   ]
  },
  {
   "cell_type": "code",
   "execution_count": 11,
   "metadata": {},
   "outputs": [
    {
     "data": {
      "text/plain": [
       "['dog', 'cat', 'great']"
      ]
     },
     "execution_count": 11,
     "metadata": {},
     "output_type": "execute_result"
    }
   ],
   "source": [
    "#ref parth garg\n",
    "seq = ['soup','dog','salad','cat','great']\n",
    "list(filter(lambda word:word[0]!='s',seq))"
   ]
  },
  {
   "cell_type": "code",
   "execution_count": 27,
   "metadata": {},
   "outputs": [
    {
     "name": "stdout",
     "output_type": "stream",
     "text": [
      "small challan\n",
      "heavy challan\n"
     ]
    }
   ],
   "source": [
    "def speeding(speed,bday):\n",
    "    if bday:\n",
    "        speed=speed-5\n",
    "    if speed<=60:\n",
    "        print(\"no challan\")\n",
    "    elif speed>60 and speed<=80:\n",
    "        print(\"small challan\")\n",
    "    elif speed>=81:\n",
    "        print(\"heavy challan\")\n",
    "        \n",
    "\n",
    "speeding(81,True)\n",
    "speeding(81,False)"
   ]
  },
  {
   "cell_type": "code",
   "execution_count": 18,
   "metadata": {},
   "outputs": [
    {
     "name": "stdout",
     "output_type": "stream",
     "text": [
      "['My', 'name', 'is', 'Shelly']\n"
     ]
    }
   ],
   "source": [
    "arr1=['M','na','i','She']\n",
    "arr2=['y','me','s','lly']\n",
    "arr3=[]\n",
    "for i in range(len(arr1)):\n",
    "    arr3.append(arr1[i]+arr2[i])\n",
    "print(arr3)"
   ]
  },
  {
   "cell_type": "code",
   "execution_count": 19,
   "metadata": {},
   "outputs": [
    {
     "name": "stdout",
     "output_type": "stream",
     "text": [
      "['Hello Dear ', 'Hello Sir ', 'take Dear ', 'take Sir ']\n"
     ]
    }
   ],
   "source": [
    "arr1=['Hello ','take ']\n",
    "arr2=['Dear ','Sir ']\n",
    "arr3=[]\n",
    "for i in range(len(arr1)):\n",
    "    for j in range(len(arr2)):\n",
    "        arr3.append(arr1[i]+arr2[j])\n",
    "print(arr3)"
   ]
  },
  {
   "cell_type": "code",
   "execution_count": 22,
   "metadata": {},
   "outputs": [
    {
     "name": "stdout",
     "output_type": "stream",
     "text": [
      "[10, 20, [300, 400, [5000, 6000, 7000], 500], 30, 40]\n"
     ]
    }
   ],
   "source": [
    "arr=[10,20,[300,400,[5000,6000],500],30,40]\n",
    "arr[2][2].append(7000)\n",
    "print(list1)"
   ]
  },
  {
   "cell_type": "code",
   "execution_count": 24,
   "metadata": {},
   "outputs": [
    {
     "name": "stdout",
     "output_type": "stream",
     "text": [
      "[23, 28, 87, 2, 1020]\n"
     ]
    }
   ],
   "source": [
    "arr=[23,28,87,2,20,1020]\n",
    "for i in arr:\n",
    "    if i==20:\n",
    "        arr.remove(i)\n",
    "print(arr)"
   ]
  },
  {
   "cell_type": "code",
   "execution_count": 25,
   "metadata": {},
   "outputs": [
    {
     "name": "stdout",
     "output_type": "stream",
     "text": [
      "True\n"
     ]
    }
   ],
   "source": [
    "#ref parth garg\n",
    "d1 = {'a': 100, 'b': 200, 'c': 300}\n",
    "print(200 in d1.values())"
   ]
  },
  {
   "cell_type": "code",
   "execution_count": 26,
   "metadata": {},
   "outputs": [
    {
     "name": "stdout",
     "output_type": "stream",
     "text": [
      "23.9112\n"
     ]
    }
   ],
   "source": [
    "# ref gfg\n",
    "import math\n",
    "def serie(n):\n",
    "    result=0.0246*(math.pow(10,n)-1-(9*n))\n",
    "    return result\n",
    "print(serie(3))"
   ]
  },
  {
   "cell_type": "code",
   "execution_count": null,
   "metadata": {},
   "outputs": [],
   "source": []
  }
 ],
 "metadata": {
  "kernelspec": {
   "display_name": "Python 3",
   "language": "python",
   "name": "python3"
  },
  "language_info": {
   "codemirror_mode": {
    "name": "ipython",
    "version": 3
   },
   "file_extension": ".py",
   "mimetype": "text/x-python",
   "name": "python",
   "nbconvert_exporter": "python",
   "pygments_lexer": "ipython3",
   "version": "3.8.8"
  }
 },
 "nbformat": 4,
 "nbformat_minor": 4
}
